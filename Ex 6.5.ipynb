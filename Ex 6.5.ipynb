{
 "cells": [
  {
   "cell_type": "markdown",
   "id": "61745965",
   "metadata": {},
   "source": [
    "## Q1 Importing libraries and data\n"
   ]
  },
  {
   "cell_type": "code",
   "execution_count": 1,
   "id": "d43f6bbe",
   "metadata": {},
   "outputs": [],
   "source": [
    "import pandas as pd\n",
    "import numpy as np\n",
    "import seaborn as sns\n",
    "import matplotlib\n",
    "import matplotlib.pyplot as plt\n",
    "import os\n",
    "import sklearn\n",
    "from sklearn.cluster import KMeans # Here is where you import the k-means algorithm from scikit-learn.\n",
    "import pylab as pl # PyLab is a convenience module that bulk imports matplotlib."
   ]
  },
  {
   "cell_type": "code",
   "execution_count": 2,
   "id": "2ac0b284",
   "metadata": {},
   "outputs": [],
   "source": [
    "# This option ensures the graphs you create are displayed in your notebook without the need to \"call\" them specifically.\n",
    "\n",
    "%matplotlib inline"
   ]
  },
  {
   "cell_type": "markdown",
   "id": "090c133e",
   "metadata": {},
   "source": [
    "## Q2a"
   ]
  },
  {
   "cell_type": "code",
   "execution_count": 3,
   "id": "0ad72fb3",
   "metadata": {},
   "outputs": [],
   "source": [
    "#Defining path\n",
    "path = r'/Users/CK/Downloads/CF/Chapter6'"
   ]
  },
  {
   "cell_type": "code",
   "execution_count": 4,
   "id": "67c8818f",
   "metadata": {},
   "outputs": [],
   "source": [
    "#Importing file\n",
    "df = pd.read_csv(os.path.join(path,'02 Data' , 'House_Rent_Dataset.csv'), index_col = False)\n",
    "\n"
   ]
  },
  {
   "cell_type": "code",
   "execution_count": 5,
   "id": "c47f73cc",
   "metadata": {},
   "outputs": [
    {
     "data": {
      "text/plain": [
       "(4746, 12)"
      ]
     },
     "execution_count": 5,
     "metadata": {},
     "output_type": "execute_result"
    }
   ],
   "source": [
    "df.shape"
   ]
  },
  {
   "cell_type": "code",
   "execution_count": 6,
   "id": "840983c3",
   "metadata": {},
   "outputs": [
    {
     "data": {
      "text/html": [
       "<div>\n",
       "<style scoped>\n",
       "    .dataframe tbody tr th:only-of-type {\n",
       "        vertical-align: middle;\n",
       "    }\n",
       "\n",
       "    .dataframe tbody tr th {\n",
       "        vertical-align: top;\n",
       "    }\n",
       "\n",
       "    .dataframe thead th {\n",
       "        text-align: right;\n",
       "    }\n",
       "</style>\n",
       "<table border=\"1\" class=\"dataframe\">\n",
       "  <thead>\n",
       "    <tr style=\"text-align: right;\">\n",
       "      <th></th>\n",
       "      <th>Posted On</th>\n",
       "      <th>BHK</th>\n",
       "      <th>Rent</th>\n",
       "      <th>Size</th>\n",
       "      <th>Floor</th>\n",
       "      <th>Area Type</th>\n",
       "      <th>Area Locality</th>\n",
       "      <th>City</th>\n",
       "      <th>Furnishing Status</th>\n",
       "      <th>Tenant Preferred</th>\n",
       "      <th>Bathroom</th>\n",
       "      <th>Point of Contact</th>\n",
       "    </tr>\n",
       "  </thead>\n",
       "  <tbody>\n",
       "    <tr>\n",
       "      <th>0</th>\n",
       "      <td>2022-05-18</td>\n",
       "      <td>2</td>\n",
       "      <td>10000</td>\n",
       "      <td>1100</td>\n",
       "      <td>Ground out of 2</td>\n",
       "      <td>Super Area</td>\n",
       "      <td>Bandel</td>\n",
       "      <td>Kolkata</td>\n",
       "      <td>Unfurnished</td>\n",
       "      <td>Bachelors/Family</td>\n",
       "      <td>2</td>\n",
       "      <td>Contact Owner</td>\n",
       "    </tr>\n",
       "    <tr>\n",
       "      <th>1</th>\n",
       "      <td>2022-05-13</td>\n",
       "      <td>2</td>\n",
       "      <td>20000</td>\n",
       "      <td>800</td>\n",
       "      <td>1 out of 3</td>\n",
       "      <td>Super Area</td>\n",
       "      <td>Phool Bagan, Kankurgachi</td>\n",
       "      <td>Kolkata</td>\n",
       "      <td>Semi-Furnished</td>\n",
       "      <td>Bachelors/Family</td>\n",
       "      <td>1</td>\n",
       "      <td>Contact Owner</td>\n",
       "    </tr>\n",
       "    <tr>\n",
       "      <th>2</th>\n",
       "      <td>2022-05-16</td>\n",
       "      <td>2</td>\n",
       "      <td>17000</td>\n",
       "      <td>1000</td>\n",
       "      <td>1 out of 3</td>\n",
       "      <td>Super Area</td>\n",
       "      <td>Salt Lake City Sector 2</td>\n",
       "      <td>Kolkata</td>\n",
       "      <td>Semi-Furnished</td>\n",
       "      <td>Bachelors/Family</td>\n",
       "      <td>1</td>\n",
       "      <td>Contact Owner</td>\n",
       "    </tr>\n",
       "    <tr>\n",
       "      <th>3</th>\n",
       "      <td>2022-07-04</td>\n",
       "      <td>2</td>\n",
       "      <td>10000</td>\n",
       "      <td>800</td>\n",
       "      <td>1 out of 2</td>\n",
       "      <td>Super Area</td>\n",
       "      <td>Dumdum Park</td>\n",
       "      <td>Kolkata</td>\n",
       "      <td>Unfurnished</td>\n",
       "      <td>Bachelors/Family</td>\n",
       "      <td>1</td>\n",
       "      <td>Contact Owner</td>\n",
       "    </tr>\n",
       "    <tr>\n",
       "      <th>4</th>\n",
       "      <td>2022-05-09</td>\n",
       "      <td>2</td>\n",
       "      <td>7500</td>\n",
       "      <td>850</td>\n",
       "      <td>1 out of 2</td>\n",
       "      <td>Carpet Area</td>\n",
       "      <td>South Dum Dum</td>\n",
       "      <td>Kolkata</td>\n",
       "      <td>Unfurnished</td>\n",
       "      <td>Bachelors</td>\n",
       "      <td>1</td>\n",
       "      <td>Contact Owner</td>\n",
       "    </tr>\n",
       "  </tbody>\n",
       "</table>\n",
       "</div>"
      ],
      "text/plain": [
       "    Posted On  BHK   Rent  Size            Floor    Area Type  \\\n",
       "0  2022-05-18    2  10000  1100  Ground out of 2   Super Area   \n",
       "1  2022-05-13    2  20000   800       1 out of 3   Super Area   \n",
       "2  2022-05-16    2  17000  1000       1 out of 3   Super Area   \n",
       "3  2022-07-04    2  10000   800       1 out of 2   Super Area   \n",
       "4  2022-05-09    2   7500   850       1 out of 2  Carpet Area   \n",
       "\n",
       "              Area Locality     City Furnishing Status  Tenant Preferred  \\\n",
       "0                    Bandel  Kolkata       Unfurnished  Bachelors/Family   \n",
       "1  Phool Bagan, Kankurgachi  Kolkata    Semi-Furnished  Bachelors/Family   \n",
       "2   Salt Lake City Sector 2  Kolkata    Semi-Furnished  Bachelors/Family   \n",
       "3               Dumdum Park  Kolkata       Unfurnished  Bachelors/Family   \n",
       "4             South Dum Dum  Kolkata       Unfurnished         Bachelors   \n",
       "\n",
       "   Bathroom Point of Contact  \n",
       "0         2    Contact Owner  \n",
       "1         1    Contact Owner  \n",
       "2         1    Contact Owner  \n",
       "3         1    Contact Owner  \n",
       "4         1    Contact Owner  "
      ]
     },
     "execution_count": 6,
     "metadata": {},
     "output_type": "execute_result"
    }
   ],
   "source": [
    "df.head()"
   ]
  },
  {
   "cell_type": "markdown",
   "id": "47bae6c2",
   "metadata": {},
   "source": [
    "Selecting a specific city and furnishing status for deeper analysis.\n"
   ]
  },
  {
   "cell_type": "code",
   "execution_count": 7,
   "id": "2a3ff0db",
   "metadata": {},
   "outputs": [],
   "source": [
    "df_bangalore = df.loc[(df['City'] == 'Bangalore')]"
   ]
  },
  {
   "cell_type": "code",
   "execution_count": 8,
   "id": "492c1fc2",
   "metadata": {},
   "outputs": [
    {
     "data": {
      "text/plain": [
       "(886, 12)"
      ]
     },
     "execution_count": 8,
     "metadata": {},
     "output_type": "execute_result"
    }
   ],
   "source": [
    "df_bangalore.shape"
   ]
  },
  {
   "cell_type": "code",
   "execution_count": 9,
   "id": "83271f6f",
   "metadata": {},
   "outputs": [],
   "source": [
    "# Selecting only numeric columns for correlation\n",
    "numeric_df = df_bangalore.select_dtypes(include=[np.number])"
   ]
  },
  {
   "cell_type": "code",
   "execution_count": 10,
   "id": "ad2420c1",
   "metadata": {},
   "outputs": [
    {
     "data": {
      "text/html": [
       "<div>\n",
       "<style scoped>\n",
       "    .dataframe tbody tr th:only-of-type {\n",
       "        vertical-align: middle;\n",
       "    }\n",
       "\n",
       "    .dataframe tbody tr th {\n",
       "        vertical-align: top;\n",
       "    }\n",
       "\n",
       "    .dataframe thead th {\n",
       "        text-align: right;\n",
       "    }\n",
       "</style>\n",
       "<table border=\"1\" class=\"dataframe\">\n",
       "  <thead>\n",
       "    <tr style=\"text-align: right;\">\n",
       "      <th></th>\n",
       "      <th>BHK</th>\n",
       "      <th>Rent</th>\n",
       "      <th>Size</th>\n",
       "      <th>Bathroom</th>\n",
       "    </tr>\n",
       "  </thead>\n",
       "  <tbody>\n",
       "    <tr>\n",
       "      <th>1496</th>\n",
       "      <td>3</td>\n",
       "      <td>70000</td>\n",
       "      <td>3354</td>\n",
       "      <td>3</td>\n",
       "    </tr>\n",
       "    <tr>\n",
       "      <th>1497</th>\n",
       "      <td>2</td>\n",
       "      <td>10500</td>\n",
       "      <td>800</td>\n",
       "      <td>2</td>\n",
       "    </tr>\n",
       "    <tr>\n",
       "      <th>1498</th>\n",
       "      <td>2</td>\n",
       "      <td>13000</td>\n",
       "      <td>1000</td>\n",
       "      <td>2</td>\n",
       "    </tr>\n",
       "    <tr>\n",
       "      <th>1499</th>\n",
       "      <td>2</td>\n",
       "      <td>17000</td>\n",
       "      <td>1040</td>\n",
       "      <td>2</td>\n",
       "    </tr>\n",
       "    <tr>\n",
       "      <th>1500</th>\n",
       "      <td>3</td>\n",
       "      <td>21000</td>\n",
       "      <td>1403</td>\n",
       "      <td>3</td>\n",
       "    </tr>\n",
       "  </tbody>\n",
       "</table>\n",
       "</div>"
      ],
      "text/plain": [
       "      BHK   Rent  Size  Bathroom\n",
       "1496    3  70000  3354         3\n",
       "1497    2  10500   800         2\n",
       "1498    2  13000  1000         2\n",
       "1499    2  17000  1040         2\n",
       "1500    3  21000  1403         3"
      ]
     },
     "execution_count": 10,
     "metadata": {},
     "output_type": "execute_result"
    }
   ],
   "source": [
    "numeric_df.head()"
   ]
  },
  {
   "cell_type": "markdown",
   "id": "6bf4afec",
   "metadata": {},
   "source": [
    "## Q2 b Standardizing and Scaling the data "
   ]
  },
  {
   "cell_type": "code",
   "execution_count": 11,
   "id": "2607eae2",
   "metadata": {},
   "outputs": [],
   "source": [
    "from sklearn.preprocessing import StandardScaler\n",
    "\n",
    "# Create an instance of StandardScaler\n",
    "scaler = StandardScaler()\n",
    "\n",
    "# Fit the scaler to your numeric data and transform it\n",
    "scaled_data = scaler.fit_transform(numeric_df)\n",
    "\n"
   ]
  },
  {
   "cell_type": "code",
   "execution_count": 20,
   "id": "31369804",
   "metadata": {},
   "outputs": [],
   "source": [
    "\n",
    "# Convert the scaled data back to a DataFrame (optional, but often useful for readability)\n",
    "scaled_df = pd.DataFrame(scaled_data, columns=numeric_df.columns)"
   ]
  },
  {
   "cell_type": "markdown",
   "id": "34ea9167",
   "metadata": {},
   "source": [
    "## Q3 and Q4 Elbow Technique"
   ]
  },
  {
   "cell_type": "code",
   "execution_count": 21,
   "id": "243b15bd",
   "metadata": {},
   "outputs": [],
   "source": [
    "num_cl = range(1, 10) # Defines the range of potential clusters in the data.\n",
    "kmeans = [KMeans(n_clusters=i) for i in num_cl] # Defines k-means clusters in the range assigned above."
   ]
  },
  {
   "cell_type": "code",
   "execution_count": 22,
   "id": "19784f66",
   "metadata": {},
   "outputs": [
    {
     "name": "stderr",
     "output_type": "stream",
     "text": [
      "/Users/CK/anaconda3/lib/python3.11/site-packages/sklearn/cluster/_kmeans.py:1412: FutureWarning: The default value of `n_init` will change from 10 to 'auto' in 1.4. Set the value of `n_init` explicitly to suppress the warning\n",
      "  super()._check_params_vs_input(X, default_n_init=10)\n",
      "/Users/CK/anaconda3/lib/python3.11/site-packages/sklearn/cluster/_kmeans.py:1412: FutureWarning: The default value of `n_init` will change from 10 to 'auto' in 1.4. Set the value of `n_init` explicitly to suppress the warning\n",
      "  super()._check_params_vs_input(X, default_n_init=10)\n",
      "/Users/CK/anaconda3/lib/python3.11/site-packages/sklearn/cluster/_kmeans.py:1412: FutureWarning: The default value of `n_init` will change from 10 to 'auto' in 1.4. Set the value of `n_init` explicitly to suppress the warning\n",
      "  super()._check_params_vs_input(X, default_n_init=10)\n",
      "/Users/CK/anaconda3/lib/python3.11/site-packages/sklearn/cluster/_kmeans.py:1412: FutureWarning: The default value of `n_init` will change from 10 to 'auto' in 1.4. Set the value of `n_init` explicitly to suppress the warning\n",
      "  super()._check_params_vs_input(X, default_n_init=10)\n",
      "/Users/CK/anaconda3/lib/python3.11/site-packages/sklearn/cluster/_kmeans.py:1412: FutureWarning: The default value of `n_init` will change from 10 to 'auto' in 1.4. Set the value of `n_init` explicitly to suppress the warning\n",
      "  super()._check_params_vs_input(X, default_n_init=10)\n",
      "/Users/CK/anaconda3/lib/python3.11/site-packages/sklearn/cluster/_kmeans.py:1412: FutureWarning: The default value of `n_init` will change from 10 to 'auto' in 1.4. Set the value of `n_init` explicitly to suppress the warning\n",
      "  super()._check_params_vs_input(X, default_n_init=10)\n",
      "/Users/CK/anaconda3/lib/python3.11/site-packages/sklearn/cluster/_kmeans.py:1412: FutureWarning: The default value of `n_init` will change from 10 to 'auto' in 1.4. Set the value of `n_init` explicitly to suppress the warning\n",
      "  super()._check_params_vs_input(X, default_n_init=10)\n",
      "/Users/CK/anaconda3/lib/python3.11/site-packages/sklearn/cluster/_kmeans.py:1412: FutureWarning: The default value of `n_init` will change from 10 to 'auto' in 1.4. Set the value of `n_init` explicitly to suppress the warning\n",
      "  super()._check_params_vs_input(X, default_n_init=10)\n",
      "/Users/CK/anaconda3/lib/python3.11/site-packages/sklearn/cluster/_kmeans.py:1412: FutureWarning: The default value of `n_init` will change from 10 to 'auto' in 1.4. Set the value of `n_init` explicitly to suppress the warning\n",
      "  super()._check_params_vs_input(X, default_n_init=10)\n"
     ]
    },
    {
     "data": {
      "text/plain": [
       "[-3544.0,\n",
       " -2083.697388126287,\n",
       " -1259.4790253315082,\n",
       " -693.8112559114433,\n",
       " -446.19300304520027,\n",
       " -322.0376693009582,\n",
       " -256.3592749617659,\n",
       " -209.67374740885498,\n",
       " -176.82433429759976]"
      ]
     },
     "execution_count": 22,
     "metadata": {},
     "output_type": "execute_result"
    }
   ],
   "source": [
    "score = [kmeans[i].fit(scaled_data).score(scaled_data) for i in range(len(kmeans))] # Creates a score that represents \n",
    "# a rate of variation for the given cluster option.\n",
    "\n",
    "score"
   ]
  },
  {
   "cell_type": "code",
   "execution_count": 23,
   "id": "298d5f23",
   "metadata": {},
   "outputs": [
    {
     "data": {
      "image/png": "[encoded data removed]",
      "text/plain": [
       "<Figure size 640x480 with 1 Axes>"
      ]
     },
     "metadata": {},
     "output_type": "display_data"
    }
   ],
   "source": [
    "# Plot the elbow curve using PyLab.\n",
    "\n",
    "pl.plot(num_cl,score)\n",
    "pl.xlabel('Number of Clusters')\n",
    "pl.ylabel('Score')\n",
    "pl.title('Elbow Curve')\n",
    "pl.show()"
   ]
  },
  {
   "cell_type": "markdown",
   "id": "8e01f88e",
   "metadata": {},
   "source": [
    "There is a flattening of cuve happening after 6 count. Hence, I would consider 5 clusters for kmeans."
   ]
  },
  {
   "cell_type": "markdown",
   "id": "960900af",
   "metadata": {},
   "source": [
    "## Q5  k-means clustering"
   ]
  },
  {
   "cell_type": "code",
   "execution_count": 24,
   "id": "a11a7c50",
   "metadata": {},
   "outputs": [],
   "source": [
    "# Create the k-means object.\n",
    "\n",
    "kmeans = KMeans(n_clusters = 5) \n",
    "\n"
   ]
  },
  {
   "cell_type": "code",
   "execution_count": 25,
   "id": "a71a5bfb",
   "metadata": {},
   "outputs": [
    {
     "name": "stderr",
     "output_type": "stream",
     "text": [
      "/Users/CK/anaconda3/lib/python3.11/site-packages/sklearn/cluster/_kmeans.py:1412: FutureWarning: The default value of `n_init` will change from 10 to 'auto' in 1.4. Set the value of `n_init` explicitly to suppress the warning\n",
      "  super()._check_params_vs_input(X, default_n_init=10)\n"
     ]
    },
    {
     "data": {
      "text/html": [
       "<style>#sk-container-id-2 {color: black;}#sk-container-id-2 pre{padding: 0;}#sk-container-id-2 div.sk-toggleable {background-color: white;}#sk-container-id-2 label.sk-toggleable__label {cursor: pointer;display: block;width: 100%;margin-bottom: 0;padding: 0.3em;box-sizing: border-box;text-align: center;}#sk-container-id-2 label.sk-toggleable__label-arrow:before {content: \"▸\";float: left;margin-right: 0.25em;color: #696969;}#sk-container-id-2 label.sk-toggleable__label-arrow:hover:before {color: black;}#sk-container-id-2 div.sk-estimator:hover label.sk-toggleable__label-arrow:before {color: black;}#sk-container-id-2 div.sk-toggleable__content {max-height: 0;max-width: 0;overflow: hidden;text-align: left;background-color: #f0f8ff;}#sk-container-id-2 div.sk-toggleable__content pre {margin: 0.2em;color: black;border-radius: 0.25em;background-color: #f0f8ff;}#sk-container-id-2 input.sk-toggleable__control:checked~div.sk-toggleable__content {max-height: 200px;max-width: 100%;overflow: auto;}#sk-container-id-2 input.sk-toggleable__control:checked~label.sk-toggleable__label-arrow:before {content: \"▾\";}#sk-container-id-2 div.sk-estimator input.sk-toggleable__control:checked~label.sk-toggleable__label {background-color: #d4ebff;}#sk-container-id-2 div.sk-label input.sk-toggleable__control:checked~label.sk-toggleable__label {background-color: #d4ebff;}#sk-container-id-2 input.sk-hidden--visually {border: 0;clip: rect(1px 1px 1px 1px);clip: rect(1px, 1px, 1px, 1px);height: 1px;margin: -1px;overflow: hidden;padding: 0;position: absolute;width: 1px;}#sk-container-id-2 div.sk-estimator {font-family: monospace;background-color: #f0f8ff;border: 1px dotted black;border-radius: 0.25em;box-sizing: border-box;margin-bottom: 0.5em;}#sk-container-id-2 div.sk-estimator:hover {background-color: #d4ebff;}#sk-container-id-2 div.sk-parallel-item::after {content: \"\";width: 100%;border-bottom: 1px solid gray;flex-grow: 1;}#sk-container-id-2 div.sk-label:hover label.sk-toggleable__label {background-color: #d4ebff;}#sk-container-id-2 div.sk-serial::before {content: \"\";position: absolute;border-left: 1px solid gray;box-sizing: border-box;top: 0;bottom: 0;left: 50%;z-index: 0;}#sk-container-id-2 div.sk-serial {display: flex;flex-direction: column;align-items: center;background-color: white;padding-right: 0.2em;padding-left: 0.2em;position: relative;}#sk-container-id-2 div.sk-item {position: relative;z-index: 1;}#sk-container-id-2 div.sk-parallel {display: flex;align-items: stretch;justify-content: center;background-color: white;position: relative;}#sk-container-id-2 div.sk-item::before, #sk-container-id-2 div.sk-parallel-item::before {content: \"\";position: absolute;border-left: 1px solid gray;box-sizing: border-box;top: 0;bottom: 0;left: 50%;z-index: -1;}#sk-container-id-2 div.sk-parallel-item {display: flex;flex-direction: column;z-index: 1;position: relative;background-color: white;}#sk-container-id-2 div.sk-parallel-item:first-child::after {align-self: flex-end;width: 50%;}#sk-container-id-2 div.sk-parallel-item:last-child::after {align-self: flex-start;width: 50%;}#sk-container-id-2 div.sk-parallel-item:only-child::after {width: 0;}#sk-container-id-2 div.sk-dashed-wrapped {border: 1px dashed gray;margin: 0 0.4em 0.5em 0.4em;box-sizing: border-box;padding-bottom: 0.4em;background-color: white;}#sk-container-id-2 div.sk-label label {font-family: monospace;font-weight: bold;display: inline-block;line-height: 1.2em;}#sk-container-id-2 div.sk-label-container {text-align: center;}#sk-container-id-2 div.sk-container {/* jupyter's `normalize.less` sets `[hidden] { display: none; }` but bootstrap.min.css set `[hidden] { display: none !important; }` so we also need the `!important` here to be able to override the default hidden behavior on the sphinx rendered scikit-learn.org. See: https://github.com/scikit-learn/scikit-learn/issues/21755 */display: inline-block !important;position: relative;}#sk-container-id-2 div.sk-text-repr-fallback {display: none;}</style><div id=\"sk-container-id-2\" class=\"sk-top-container\"><div class=\"sk-text-repr-fallback\"><pre>KMeans(n_clusters=5)</pre><b>In a Jupyter environment, please rerun this cell to show the HTML representation or trust the notebook. <br />On GitHub, the HTML representation is unable to render, please try loading this page with nbviewer.org.</b></div><div class=\"sk-container\" hidden><div class=\"sk-item\"><div class=\"sk-estimator sk-toggleable\"><input class=\"sk-toggleable__control sk-hidden--visually\" id=\"sk-estimator-id-2\" type=\"checkbox\" checked><label for=\"sk-estimator-id-2\" class=\"sk-toggleable__label sk-toggleable__label-arrow\">KMeans</label><div class=\"sk-toggleable__content\"><pre>KMeans(n_clusters=5)</pre></div></div></div></div></div>"
      ],
      "text/plain": [
       "KMeans(n_clusters=5)"
      ]
     },
     "execution_count": 25,
     "metadata": {},
     "output_type": "execute_result"
    }
   ],
   "source": [
    "# Fit the k-means object to the data.\n",
    "\n",
    "kmeans.fit(scaled_data)"
   ]
  },
  {
   "cell_type": "markdown",
   "id": "edaad580",
   "metadata": {},
   "source": [
    "## Q6"
   ]
  },
  {
   "cell_type": "code",
   "execution_count": 26,
   "id": "d908207a",
   "metadata": {},
   "outputs": [
    {
     "name": "stderr",
     "output_type": "stream",
     "text": [
      "/Users/CK/anaconda3/lib/python3.11/site-packages/sklearn/cluster/_kmeans.py:1412: FutureWarning: The default value of `n_init` will change from 10 to 'auto' in 1.4. Set the value of `n_init` explicitly to suppress the warning\n",
      "  super()._check_params_vs_input(X, default_n_init=10)\n"
     ]
    }
   ],
   "source": [
    "scaled_df['clusters'] = kmeans.fit_predict(scaled_data)"
   ]
  },
  {
   "cell_type": "code",
   "execution_count": 30,
   "id": "efee8ede",
   "metadata": {},
   "outputs": [
    {
     "data": {
      "text/html": [
       "<div>\n",
       "<style scoped>\n",
       "    .dataframe tbody tr th:only-of-type {\n",
       "        vertical-align: middle;\n",
       "    }\n",
       "\n",
       "    .dataframe tbody tr th {\n",
       "        vertical-align: top;\n",
       "    }\n",
       "\n",
       "    .dataframe thead th {\n",
       "        text-align: right;\n",
       "    }\n",
       "</style>\n",
       "<table border=\"1\" class=\"dataframe\">\n",
       "  <thead>\n",
       "    <tr style=\"text-align: right;\">\n",
       "      <th></th>\n",
       "      <th>BHK</th>\n",
       "      <th>Rent</th>\n",
       "      <th>Size</th>\n",
       "      <th>Bathroom</th>\n",
       "      <th>clusters</th>\n",
       "    </tr>\n",
       "  </thead>\n",
       "  <tbody>\n",
       "    <tr>\n",
       "      <th>0</th>\n",
       "      <td>1.397112</td>\n",
       "      <td>0.375317</td>\n",
       "      <td>3.829404</td>\n",
       "      <td>1.535278</td>\n",
       "      <td>4</td>\n",
       "    </tr>\n",
       "    <tr>\n",
       "      <th>1</th>\n",
       "      <td>0.091372</td>\n",
       "      <td>-0.120565</td>\n",
       "      <td>-0.300659</td>\n",
       "      <td>0.262821</td>\n",
       "      <td>0</td>\n",
       "    </tr>\n",
       "    <tr>\n",
       "      <th>2</th>\n",
       "      <td>0.091372</td>\n",
       "      <td>-0.099729</td>\n",
       "      <td>0.022760</td>\n",
       "      <td>0.262821</td>\n",
       "      <td>0</td>\n",
       "    </tr>\n",
       "    <tr>\n",
       "      <th>3</th>\n",
       "      <td>0.091372</td>\n",
       "      <td>-0.066393</td>\n",
       "      <td>0.087444</td>\n",
       "      <td>0.262821</td>\n",
       "      <td>0</td>\n",
       "    </tr>\n",
       "    <tr>\n",
       "      <th>4</th>\n",
       "      <td>1.397112</td>\n",
       "      <td>-0.033056</td>\n",
       "      <td>0.674450</td>\n",
       "      <td>1.535278</td>\n",
       "      <td>3</td>\n",
       "    </tr>\n",
       "  </tbody>\n",
       "</table>\n",
       "</div>"
      ],
      "text/plain": [
       "        BHK      Rent      Size  Bathroom  clusters\n",
       "0  1.397112  0.375317  3.829404  1.535278         4\n",
       "1  0.091372 -0.120565 -0.300659  0.262821         0\n",
       "2  0.091372 -0.099729  0.022760  0.262821         0\n",
       "3  0.091372 -0.066393  0.087444  0.262821         0\n",
       "4  1.397112 -0.033056  0.674450  1.535278         3"
      ]
     },
     "execution_count": 30,
     "metadata": {},
     "output_type": "execute_result"
    }
   ],
   "source": [
    "scaled_df.head()"
   ]
  },
  {
   "cell_type": "code",
   "execution_count": 31,
   "id": "0a2be308",
   "metadata": {},
   "outputs": [],
   "source": [
    "# Export data to csv\n",
    "\n",
    "scaled_df.to_csv(os.path.join(path, '02 Data','clusterdata.csv'))"
   ]
  },
  {
   "cell_type": "code",
   "execution_count": 32,
   "id": "5c78a017",
   "metadata": {},
   "outputs": [
    {
     "data": {
      "text/plain": [
       "clusters\n",
       "0    359\n",
       "1    343\n",
       "3    157\n",
       "4     26\n",
       "2      1\n",
       "Name: count, dtype: int64"
      ]
     },
     "execution_count": 32,
     "metadata": {},
     "output_type": "execute_result"
    }
   ],
   "source": [
    "scaled_df['clusters'].value_counts()"
   ]
  },
  {
   "cell_type": "markdown",
   "id": "37116eaa",
   "metadata": {},
   "source": [
    "## Q7 and Q8"
   ]
  },
  {
   "cell_type": "code",
   "execution_count": 37,
   "id": "95c20ab3",
   "metadata": {},
   "outputs": [
    {
     "data": {
      "image/png": "[encoded data removed]",
      "text/plain": [
       "<Figure size 800x600 with 1 Axes>"
      ]
     },
     "metadata": {},
     "output_type": "display_data"
    }
   ],
   "source": [
    "# Plot the clusters for the \"Size\" and \"Rent\" variables.\n",
    "\n",
    "plt.figure(figsize=(8,6))\n",
    "ax = sns.scatterplot(x=scaled_df['Size'], y=scaled_df['Rent'], hue=kmeans.labels_, s=100) \n",
    "# Here, you're subsetting `X` for the x and y arguments to avoid using their labels. \n",
    "# `hue` takes the value of the attribute `kmeans.labels_`, which is the result of running the k-means algorithm.\n",
    "# `s` represents the size of the points you want to see in the plot.\n",
    "\n",
    "ax.grid(False) # This removes the grid from the background.\n",
    "plt.xlabel('Size') # Label x-axis.\n",
    "plt.ylabel('Rent') # Label y-axis.\n",
    "plt.show()"
   ]
  },
  {
   "cell_type": "markdown",
   "id": "efac720b",
   "metadata": {},
   "source": [
    "The clusters donot show deeper insights into the relationship of rent with size. The major insight is that you can find homes of various sizes in a given budget in Bangalore."
   ]
  },
  {
   "cell_type": "code",
   "execution_count": 38,
   "id": "bdb157b6",
   "metadata": {},
   "outputs": [
    {
     "data": {
      "image/png": "[encoded data removed]",
      "text/plain": [
       "<Figure size 800x400 with 1 Axes>"
      ]
     },
     "metadata": {},
     "output_type": "display_data"
    }
   ],
   "source": [
    "# Plot the clusters for the \"BHK\" and \"Rent\" variables.\n",
    "\n",
    "plt.figure(figsize=(8,4))\n",
    "ax = sns.scatterplot(x=scaled_df['BHK'], y=scaled_df['Rent'], hue=kmeans.labels_, s=100)\n",
    "\n",
    "ax.grid(False) \n",
    "plt.xlabel('BHK') \n",
    "plt.ylabel('Rent') \n",
    "plt.show()"
   ]
  },
  {
   "cell_type": "markdown",
   "id": "1a15080b",
   "metadata": {},
   "source": [
    "The group 4 cluster is concentrated on BHK>2.5. There are hardly any 0 or 1 cluster above 1.5BHK. Anyways, the data needs further analysis since there are no strong insights that came up."
   ]
  },
  {
   "cell_type": "code",
   "execution_count": 39,
   "id": "cd4399e3",
   "metadata": {},
   "outputs": [],
   "source": [
    "scaled_df.loc[scaled_df['clusters'] == 2, 'cluster'] = 'dark purple'\n",
    "scaled_df.loc[scaled_df['clusters'] == 1, 'cluster'] = 'purple'\n",
    "scaled_df.loc[scaled_df['clusters'] == 0, 'cluster'] = 'pink'\n",
    "scaled_df.loc[scaled_df['clusters'] == 3, 'cluster'] = 'yellow'\n",
    "scaled_df.loc[scaled_df['clusters'] == 4, 'cluster'] = 'green'"
   ]
  },
  {
   "cell_type": "markdown",
   "id": "39d371fd",
   "metadata": {},
   "source": [
    "## Q9"
   ]
  },
  {
   "cell_type": "code",
   "execution_count": 40,
   "id": "92629ee7",
   "metadata": {},
   "outputs": [
    {
     "data": {
      "text/html": [
       "<div>\n",
       "<style scoped>\n",
       "    .dataframe tbody tr th:only-of-type {\n",
       "        vertical-align: middle;\n",
       "    }\n",
       "\n",
       "    .dataframe tbody tr th {\n",
       "        vertical-align: top;\n",
       "    }\n",
       "\n",
       "    .dataframe thead tr th {\n",
       "        text-align: left;\n",
       "    }\n",
       "\n",
       "    .dataframe thead tr:last-of-type th {\n",
       "        text-align: right;\n",
       "    }\n",
       "</style>\n",
       "<table border=\"1\" class=\"dataframe\">\n",
       "  <thead>\n",
       "    <tr>\n",
       "      <th></th>\n",
       "      <th colspan=\"2\" halign=\"left\">Size</th>\n",
       "      <th colspan=\"2\" halign=\"left\">BHK</th>\n",
       "      <th colspan=\"2\" halign=\"left\">Bathroom</th>\n",
       "      <th colspan=\"2\" halign=\"left\">Rent</th>\n",
       "    </tr>\n",
       "    <tr>\n",
       "      <th></th>\n",
       "      <th>mean</th>\n",
       "      <th>median</th>\n",
       "      <th>mean</th>\n",
       "      <th>median</th>\n",
       "      <th>mean</th>\n",
       "      <th>median</th>\n",
       "      <th>mean</th>\n",
       "      <th>median</th>\n",
       "    </tr>\n",
       "    <tr>\n",
       "      <th>cluster</th>\n",
       "      <th></th>\n",
       "      <th></th>\n",
       "      <th></th>\n",
       "      <th></th>\n",
       "      <th></th>\n",
       "      <th></th>\n",
       "      <th></th>\n",
       "      <th></th>\n",
       "    </tr>\n",
       "  </thead>\n",
       "  <tbody>\n",
       "    <tr>\n",
       "      <th>dark purple</th>\n",
       "      <td>2.448404</td>\n",
       "      <td>2.448404</td>\n",
       "      <td>1.397112</td>\n",
       "      <td>1.397112</td>\n",
       "      <td>1.535278</td>\n",
       "      <td>1.535278</td>\n",
       "      <td>28.961414</td>\n",
       "      <td>28.961414</td>\n",
       "    </tr>\n",
       "    <tr>\n",
       "      <th>green</th>\n",
       "      <td>3.891600</td>\n",
       "      <td>3.539944</td>\n",
       "      <td>2.301086</td>\n",
       "      <td>2.702852</td>\n",
       "      <td>2.758794</td>\n",
       "      <td>2.807735</td>\n",
       "      <td>0.889309</td>\n",
       "      <td>0.792024</td>\n",
       "    </tr>\n",
       "    <tr>\n",
       "      <th>pink</th>\n",
       "      <td>-0.009024</td>\n",
       "      <td>0.022760</td>\n",
       "      <td>0.102284</td>\n",
       "      <td>0.091372</td>\n",
       "      <td>0.223832</td>\n",
       "      <td>0.262821</td>\n",
       "      <td>-0.065997</td>\n",
       "      <td>-0.083061</td>\n",
       "    </tr>\n",
       "    <tr>\n",
       "      <th>purple</th>\n",
       "      <td>-0.720812</td>\n",
       "      <td>-0.704934</td>\n",
       "      <td>-0.928856</td>\n",
       "      <td>-1.214367</td>\n",
       "      <td>-0.983667</td>\n",
       "      <td>-1.009636</td>\n",
       "      <td>-0.126433</td>\n",
       "      <td>-0.137233</td>\n",
       "    </tr>\n",
       "    <tr>\n",
       "      <th>yellow</th>\n",
       "      <td>0.935338</td>\n",
       "      <td>0.831308</td>\n",
       "      <td>1.405429</td>\n",
       "      <td>1.397112</td>\n",
       "      <td>1.170561</td>\n",
       "      <td>1.535278</td>\n",
       "      <td>0.095388</td>\n",
       "      <td>0.041951</td>\n",
       "    </tr>\n",
       "  </tbody>\n",
       "</table>\n",
       "</div>"
      ],
      "text/plain": [
       "                 Size                 BHK            Bathroom            \\\n",
       "                 mean    median      mean    median      mean    median   \n",
       "cluster                                                                   \n",
       "dark purple  2.448404  2.448404  1.397112  1.397112  1.535278  1.535278   \n",
       "green        3.891600  3.539944  2.301086  2.702852  2.758794  2.807735   \n",
       "pink        -0.009024  0.022760  0.102284  0.091372  0.223832  0.262821   \n",
       "purple      -0.720812 -0.704934 -0.928856 -1.214367 -0.983667 -1.009636   \n",
       "yellow       0.935338  0.831308  1.405429  1.397112  1.170561  1.535278   \n",
       "\n",
       "                  Rent             \n",
       "                  mean     median  \n",
       "cluster                            \n",
       "dark purple  28.961414  28.961414  \n",
       "green         0.889309   0.792024  \n",
       "pink         -0.065997  -0.083061  \n",
       "purple       -0.126433  -0.137233  \n",
       "yellow        0.095388   0.041951  "
      ]
     },
     "execution_count": 40,
     "metadata": {},
     "output_type": "execute_result"
    }
   ],
   "source": [
    "scaled_df.groupby('cluster').agg({'Size':['mean', 'median'], \n",
    "                         'BHK':['mean', 'median'], \n",
    "                         'Bathroom':['mean', 'median'],\n",
    "                          'Rent':['mean', 'median']})"
   ]
  },
  {
   "cell_type": "markdown",
   "id": "cc8f44df",
   "metadata": {},
   "source": [
    "The dataset was standardized before clustering, with a mean of 0 and a standard deviation of 1 across the dataset. Values can be interpreted relative to the dataset's mean (0) and standard deviation (1).\n",
    "\n",
    "In a standardized dataset, both the mean and median reflect the center of the data for each cluster relative to the overall data's center. A close match between mean and median in a cluster suggests a symmetric distribution of values around the center within that cluster."
   ]
  },
  {
   "cell_type": "markdown",
   "id": "99f54d7d",
   "metadata": {},
   "source": [
    "## Cluster-Specific Insights:\n",
    "### Dark Purple Cluster:\n",
    "\n",
    "Represents properties with significantly high \"Rent\" values, suggesting luxurious or highly sought-after homes. The size and BHK values are moderately above average, indicating comfortable living spaces.\n",
    "\n",
    "### Green Cluster:\n",
    "\n",
    "Features the largest properties in terms of \"Size,\" \"BHK,\" and \"Bathroom,\" but with surprisingly modest \"Rent\" values. This could suggest spacious properties that are either located in less expensive areas or offer great value for money.\n",
    "\n",
    "### Pink Cluster:\n",
    "\n",
    "This cluster shows below-average \"Size\" but near-average \"BHK\" and \"Bathroom\" counts, with very low \"Rent\". The disparities between mean and median suggest some skewness. Properties here might be smaller, affordable units, likely apartments or studios.\n",
    "\n",
    "### Purple Cluster:\n",
    "\n",
    "Shows the lowest values across all features, suggesting small, possibly less appealing properties with the lowest \"Rent.\" These might be studios or single-room apartments in less desirable locations.\n",
    "\n",
    "### Yellow Cluster:\n",
    "\n",
    "Represents moderately sized properties with relatively higher \"BHK\" and \"Bathroom\" counts and slightly above-average \"Rent.\" This cluster could be indicative of family homes that offer a balance between size and cost."
   ]
  },
  {
   "cell_type": "markdown",
   "id": "57692a50",
   "metadata": {},
   "source": [
    "## Q10. \n",
    "The results of cluster analysis couls be used in multiple ways. Below are some recommendations on how we could use this data:\n",
    "\n",
    "Real Estate Agents and Platforms:\n",
    "\n",
    "Personalized Marketing:\n",
    "Tailor marketing strategies to highlight the unique features of properties in each cluster. For example, emphasize the luxurious aspects of \"dark purple\" cluster properties or the affordability and spaciousness of \"green\" cluster homes.\n",
    "Recommendation Engines:\n",
    "Improve online platforms' recommendation systems by aligning property suggestions with user preferences based on cluster characteristics. Users looking for affordable options could be shown properties from the \"pink\" and \"purple\" clusters.\n",
    "\n",
    "\n",
    "Urban Planners and Local Governments:\n",
    "\n",
    "Housing Policy Development:\n",
    "Use the insights from the cluster analysis to inform housing policies, ensuring a balanced development that caters to various market segments. For instance, policies to encourage more \"green\" cluster type developments could address the need for affordable family homes.\n",
    "Infrastructure Planning:\n",
    "Plan infrastructure and services around the needs of the predominant property types in an area. Areas with a high concentration of \"dark purple\" cluster properties might benefit from premium services and amenities.\n",
    "\n",
    "For All Stakeholders:\n",
    "Market Segmentation:\n",
    "Use the cluster analysis to segment the property market effectively, allowing for more targeted strategies in development, marketing, financing, and policy-making.\n",
    "Trend Monitoring:\n",
    "Continuously monitor how the distribution of properties among clusters changes over time to identify shifting trends in consumer preferences and market demand.\n",
    "Customer Insights:\n",
    "Conduct further analysis to understand the demographics and preferences of the occupants or owners of properties within each cluster, providing a deeper insight into customer needs and behaviors."
   ]
  },
  {
   "cell_type": "code",
   "execution_count": null,
   "id": "35604740",
   "metadata": {},
   "outputs": [],
   "source": []
  },
  {
   "cell_type": "code",
   "execution_count": null,
   "id": "9d0e6fe0",
   "metadata": {},
   "outputs": [],
   "source": []
  }
 ],
 "metadata": {
  "kernelspec": {
   "display_name": "Python 3 (ipykernel)",
   "language": "python",
   "name": "python3"
  },
  "language_info": {
   "codemirror_mode": {
    "name": "ipython",
    "version": 3
   },
   "file_extension": ".py",
   "mimetype": "text/x-python",
   "name": "python",
   "nbconvert_exporter": "python",
   "pygments_lexer": "ipython3",
   "version": "3.11.5"
  }
 },
 "nbformat": 4,
 "nbformat_minor": 5
}
